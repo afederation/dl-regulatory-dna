{
 "cells": [
  {
   "cell_type": "code",
   "execution_count": 6,
   "metadata": {},
   "outputs": [],
   "source": [
    "import sys\n",
    "sys.path.append('/Users/afederation/src/utils/')\n",
    "import bioinformatics"
   ]
  },
  {
   "cell_type": "code",
   "execution_count": 12,
   "metadata": {},
   "outputs": [
    {
     "ename": "TypeError",
     "evalue": "argument should be integer or None, not 'float'",
     "output_type": "error",
     "traceback": [
      "\u001b[0;31m---------------------------------------------------------------------------\u001b[0m",
      "\u001b[0;31mTypeError\u001b[0m                                 Traceback (most recent call last)",
      "\u001b[0;32m<ipython-input-12-31711da4b7ab>\u001b[0m in \u001b[0;36m<module>\u001b[0;34m\u001b[0m\n\u001b[1;32m      1\u001b[0m \u001b[0mdirectory\u001b[0m \u001b[0;34m=\u001b[0m \u001b[0;34m'/Users/afederation/data/genomes/hg38/individual/'\u001b[0m\u001b[0;34m\u001b[0m\u001b[0;34m\u001b[0m\u001b[0m\n\u001b[0;32m----> 2\u001b[0;31m \u001b[0mbioinformatics\u001b[0m\u001b[0;34m.\u001b[0m\u001b[0mfetch_seq\u001b[0m\u001b[0;34m(\u001b[0m\u001b[0mdirectory\u001b[0m\u001b[0;34m,\u001b[0m \u001b[0;34m'chr8'\u001b[0m\u001b[0;34m,\u001b[0m \u001b[0;36m15211397\u001b[0m\u001b[0;34m,\u001b[0m \u001b[0;36m15256329\u001b[0m\u001b[0;34m)\u001b[0m\u001b[0;34m\u001b[0m\u001b[0;34m\u001b[0m\u001b[0m\n\u001b[0m",
      "\u001b[0;32m~/src/utils/bioinformatics.py\u001b[0m in \u001b[0;36mfetch_seq\u001b[0;34m(directory, chrom, start, end, UCSC, lineBreaks, header)\u001b[0m\n\u001b[1;32m     24\u001b[0m     \u001b[0mspan\u001b[0m \u001b[0;34m=\u001b[0m \u001b[0;34m(\u001b[0m\u001b[0;34m(\u001b[0m\u001b[0mend\u001b[0m\u001b[0;34m+\u001b[0m\u001b[0mnEnd\u001b[0m\u001b[0;34m-\u001b[0m\u001b[0;36m1\u001b[0m\u001b[0;34m)\u001b[0m\u001b[0;34m-\u001b[0m\u001b[0;34m(\u001b[0m\u001b[0mstart\u001b[0m\u001b[0;34m+\u001b[0m\u001b[0mnStart\u001b[0m\u001b[0;34m-\u001b[0m\u001b[0;36m1\u001b[0m\u001b[0;34m)\u001b[0m\u001b[0;34m)\u001b[0m\u001b[0;34m\u001b[0m\u001b[0;34m\u001b[0m\u001b[0m\n\u001b[1;32m     25\u001b[0m \u001b[0;34m\u001b[0m\u001b[0m\n\u001b[0;32m---> 26\u001b[0;31m     \u001b[0mread\u001b[0m \u001b[0;34m=\u001b[0m \u001b[0mfh\u001b[0m\u001b[0;34m.\u001b[0m\u001b[0mread\u001b[0m\u001b[0;34m(\u001b[0m\u001b[0mspan\u001b[0m\u001b[0;34m)\u001b[0m\u001b[0;34m\u001b[0m\u001b[0;34m\u001b[0m\u001b[0m\n\u001b[0m\u001b[1;32m     27\u001b[0m     \u001b[0;32mif\u001b[0m \u001b[0mlineBreaks\u001b[0m\u001b[0;34m:\u001b[0m\u001b[0;34m\u001b[0m\u001b[0;34m\u001b[0m\u001b[0m\n\u001b[1;32m     28\u001b[0m         \u001b[0mread\u001b[0m \u001b[0;34m=\u001b[0m \u001b[0mread\u001b[0m\u001b[0;34m.\u001b[0m\u001b[0mreplace\u001b[0m\u001b[0;34m(\u001b[0m\u001b[0;34m'\\n'\u001b[0m\u001b[0;34m,\u001b[0m\u001b[0;34m''\u001b[0m\u001b[0;34m)\u001b[0m\u001b[0;34m\u001b[0m\u001b[0;34m\u001b[0m\u001b[0m\n",
      "\u001b[0;31mTypeError\u001b[0m: argument should be integer or None, not 'float'"
     ]
    }
   ],
   "source": [
    "directory = '/Users/afederation/data/genomes/hg38/individual/'\n",
    "bioinformatics.fetch_seq(directory, 'chr8', 15211397, 15256329)"
   ]
  },
  {
   "cell_type": "code",
   "execution_count": 26,
   "metadata": {},
   "outputs": [
    {
     "name": "stdout",
     "output_type": "stream",
     "text": [
      "127736594 127740958\n",
      "NNNNNNNNNNNNNNNNNNNNNNNNNNNNNNNNNNNNNNNNNNNNNNNNNNNNNNNNNNNNNNNNNNNNNNNNNNNNNNNNNNNNNNNNNNNNNNNNNNNNNNNNNNNNNNNNNNNNNNNNNNNNNNNNNNNNNNNNNNNNNNNNNNNNNNNNNNNNNNNNNNNNNNNNNNNNNNNNNNNNNNNNNNNNNNNNNNNNNNNNNNNNNNNNNNNNNNNNNNNNNNNNNNNNNNNNNNNNNNNNNNNNNNNNNNNNNNNNNNNNNNNNNNNNNNNNNNNNNNNNNNNNNNNNNNNNNNNNNNNNNNNNNNNNNNNNNNNNNNNNNNNNNNNNNNNNNNNNNNNNNNNNNNNNNNNNNNNNNNNNNNNNNNNNNNNNNNNNNNNNNNNNNNNNNNNNNNNNNNNNNNNNNNNNNNNNNNNNNNNNNNNNNNNNNNNNNNNNNNNNNNNNNNNNNNNNNNNNNNNNNNNNNNNNNNNNNNNNNNNNNNNNNNNNNNNNNNNNNNNNNNNNNNNNNNNNNNNNNNNNNNNNNNNNNNNNNNNNNNNNNNNNNNNNNNNNNNNNNNNNNNNNNNNNNNNNNNNNNNNNNNNNNNNNNNNNNNNNNNNNNNNNNNNNNNNNNNNNNNNNNNNNNNNNNNNNNNNNNNNNNNNNNNNNNNNNNNNNNNNNNNNNNNNNNNNNNNNNNNNNNNNNNNNNNNNNNNNNNNNNNNNNNNNNNNNNNNNNNNNNNNNNNNNNNNNNNNNNNNNNNNNNNNNNNNNNNNNNNNNNNNNNNNNNNNNNNNNNNNNNNNNNNNNNNNNNNNNNNNNNNNNNNNNNNNNNNNNNNNNNNNNNNNNNNNNNNNNNNNNNNNNNNNNNNNNNNNNNNNNNNNNNNNNNNNNNNNNNNNNNNNNNNNNNNNNNNNNNNNNNNNNNNNNNNNNNNNNNNNNNNNNNNNNNNNNNNNNNNNNNNNNNNNNNNNNNNNNNNNNNNNNNNNNNNNNNNNNNNNNNNNNNNNNNNNNNNNNNNNNNNNNNNNNNNNNNNNNNNNNNNNNNNNNNNNNNNNNNNNNNNNNNNNNNNNNNNNNNNNNNNNNNNNNNNNNNNNNNNNNNNNNNNNNNNNNNNNNNNNNNNNNNNNNNNNNNNNNNNNNNNNNNNNNNNNNNNNNNNNNNNNNNNNNNNNNNNNNNNNNNNNNNNNNNNNNNNNNNNNNNNNNNNNNNNNNNNNNNNNNNNNNNNNNNNNNNNNNNNNNNNNNNNNNNNNNNNNNNNNNNNNNNNNNNNNNNNNNNNNNNNNNNNNNNNNNNNNNNNNNNNNNNNNNNNNNNNNNNNNNNNNNNNNNNNNNNNNNNNNNNNNNNNNNNNNNNNNNNNNNNNNNNNNNNNNNNNNNNNNNNNNNNNNNNNNNNNNNNNNNNNNNNNNNNNNNNNNNNNNNNNNNNNNNNNNNNNNNNNNNNNNNNNNNNNNNNNNNNNNNNNNNNNNNNNNNNNNNNNNNNNNNNNNNNNNNNNNNNNNNNNNNNNNNNNNNNNNNNNNNNNNNNNNNNNNNNNNNNNNNNNNNNNNNNNNNNNNNNNNNNNNNNNNNNNNNNNNNNNNNNNNNNNNNNNNNNNNNNNNNNNNNNNNNNNNNNNNNNNNNNNNNNNNNNNNNNNNNNNNNNNNNNNNNNNNNNNNNNNNNNNNNNNNNNNNNNNNNNNNNNNNNNNNNNNNNNNNNNNNNNNNNNNNNNNNNNNNNNNNNNNNNNNNNNNNNNNNNNNNNNNNNNNNNNNNNNNNNNNNNNNNNNNNNNNNNNNNNNNNNNNNNNNNNNNNNNNNNNNNNNNNNNNNNNNNNNNNNNNNNNNNNNNNNNNNNNNNNNNNNNNNNNNNNNNNNNNNNNNNNNNNNNNNNNNNNNNNNNNNNNNNNNNNNNNNNNNNNNNNNNNNNNNNNNNNNNNNNNNNNNNNNNNNNNNNNNNNNNNNNNNNNNNNNNNNNNNNNNNNNNNNNNNNNNNNNNNNNNNNNNNNNNNNNNNNNNNNNNNNNNNNNNNNNNNNNNNNNNNNNNNNNNNNNNNNNNNNNNNNNNNNNNNNNNNNNNNNNNNNNNNNNNNNNNNNNNNNNNNNNNNNNNNNNNNNNNNNNNNNNNNNNNNNNNNNNNNNNNNNNNNNNNNNNNNNNNNNNNNNNNNNNNNNNNNNNNNNNNNNNNNNNNNNNNNNNNNNNNNNNNNNNNNNNNNNNNNNNNNNNNNNNNNNNNNNNNNNNNNNNNNNNNNNNNNNNNNNNNNNNNNNNNNNNNNNNNNNNNNNNNNNNNNNNNNNNNNNNNNNNNNNNNNNNNNNNNNNNNNNNNNNNNNNNNNNNNNNNNNNNNNNNNNNNNNNNNNNNNNNNNNNNNNNNNNNNNNNNNNNNNNNNNNNNNNNNNNNNNNNNNNNNNNNNNNNNNNNNNNNNNNNNNNNNNNNNNNNNNNNNNNNNNNNNNNNNNNNNNNNNNNNNNNNNNNNNNNNNNNNNNNNNNNNNNNNNNNNNNNNNNNNNNNNNNNNNNNNNNNNNNNNNNNNNNNNNNNNNNNNNNNNNNNNNNNNNNNNNNNNNNNNNNNNNNNNNNNNNNNNNNNNNNNNNNNNNNNNNNNNNNNNNNNNNNNNNNNNNNNNNNNNNNNNNNNNNNNNNNNNNNNNNNNNNNNNNNNNNNNNNNNNNNNNNNNNNNNNNNNNNNNNNNNNNNNNNNNNNNNNNNNNNNNNNNNNNNNNNNNNNNNNNNNNNNNNNNNNNNNNNNNNNNNNNNNNNNNNNNNNNNNNNNNNNNNNNNNNNNNNNNNNNNNNNNNNNNNNNNNNNNNNNNNNNNNNNNNNNNNNNNNNNNNNNNNNNNNNNNNNNNNNNNNNNNNNNNNNNNNNNNNNNNNNNNNNNNNNNNNNNNNNNNNNNNNNNNNNNNNNNNNNNNNNNNNNNNNNNNNNNNNNNNNNNNNNNNNNNNNNNNNNNNNNNNNNNNNNNNNNNNNNNNNNNNNNNNNNNNNNNNNNNNNNNNNNNNNNNNNNNNNNNNNNNNNNNNNNNNNNNNNNNNNNNNNNNNNNNNNNNNNNNNNNNNNNNNNNNNNNNNNNNNNNNNNNNNNNNNNNNNNNNNNNNNNNNNNNNNNNNNNNNNNNNNNNNNNNNNNNNNNNNNNNNNNNNNNNNNNNNNNNNNNNNNNNNNNNNNNNNNNNNNNNNNNNNNNNNNNNNNNNNNNNNNNNNNNNNNNNNNNNNNNNNNNNNNNNNNNNNNNNNNNNNNNNNNNNNNNNNNNNNNNNNNNNNNNNNNNNNNNNNNNNNNNNNNNNNNNNNNNNNNNNNNNNNNNNNNNNNNNNNNNNNNNNNNNNNNNNNNNNNNNNNNNNNNNNNNNNNNNNNNNNNNNNNNNNNNNNNNNNNNNNNNNNNNNNNNNNNNNNNNNNNNNNNNNNNNNNNNNNNNNNNNNNNNNNNNNNNNNNNNNNNNNNNNNNNNNNNNNNNNNNNNNNNNNNNNNNNNNNNNNNNNNNNNNNNNNNNNNNNNNNNNNNNNNNNNNNNNNNNNNNNNNNNNNNNNNNNNNNNNNNNNNNNNNNNNNNNNNNNNNNNNNNNNNNNNNNNNNNNNNNNNNNNNNNNNNNNNNNNNNNNNNNNNNNNNNNNNNNNNNNNNNNNNNNNNNNNNNNNNNNNNNNNNNNNNNNNNNNNNNNNNNNNNNNNNNNNNNNNNNNNNNNNNNNNNNNNNNNNNNNNNNNNNNNNNNNNNNNNNNNNNNNNNNNNNNNNNNNNNNNNNNNNNNNNNNNNNNNNNNNNNNNNNNNNNNNNNNNNNNNNNNNNNNNNNNNNNNNNNNNNNNNNNNNNNNNNNNNNNNNNNNNNNNNNNNNNNNNNNNNNNNNNNNNNNNNNNNNNNNNNNNNNNNNNNNNNNNNNNNNNNNNNNNNNNNNNNNNNNNNNNNNNNNNNNNNNNNNNNNNNNNNNNNNNNNNNNNNNNNNNNNNNNNNNNNNNNNNNNNNNNNNNNNNNNNNNNNNNNNNNNNNNNNNNNNNNNNNNNNNNNNNNNNNNNNNNNNNNNNNNNNNNNNNNNNNNNNNNNNNNNNNNNNNNNNNNNNNNNNNNNNNNNNNNNNNNNNNNNNNNNNNNNNNNNNNNNNNNNNNNNNNNNNNNNNNNNNNNNNNNNNNNNNNNNNNNNNNNNNNNNNNNNNNNNNNNNNNNNNNNNNNNNNNNNNNNNNNNNNNNNNNNNNNNNNNNNNNNNNNNNNNNNNNNNNNNNNNNNNNNNNNNNNNNNNNNNNNNNNNNNNNNNNNNNNNNNNNNNNNNNNNNNNNNNNNNNNNNNNNNNNNNNNNNNNNNNNNNNNNNNNNNNNNNNNNNNNNNNNNNNNNNNNNNNNNNNNNNNNNNNNNNNNNNNNNNNNNNNNNNNNNNNNNNNNNNNNNNNNNNNNNNNNNNNNNNNNNNNNNNNNNNNNNNNNNNNNNNNN\n"
     ]
    }
   ],
   "source": [
    "chrom = 'chr8'\n",
    "header = True\n",
    "lineBreaks=True\n",
    "start = 127736594\n",
    "end = 127740958\n",
    "\n",
    "\n",
    "fn = directory + chrom + '.fa'\n",
    "fh = open(fn,'r')\n",
    "\n",
    "headerOffset = 0\n",
    "nStart = 0\n",
    "nEnd = 0\n",
    "\n",
    "if header:\n",
    "    fh.seek(0)\n",
    "    headerOffset = len(fh.readline())\n",
    "\n",
    "if lineBreaks:\n",
    "    nStart = int((start-1)/50)\n",
    "    nEnd = int((end-1)/50)\n",
    "else:\n",
    "    fh.seek((start-1+nStart+headerOffset))\n",
    "\n",
    "print(start, end)\n",
    "span = ((end+nEnd-1)-(start+nStart-1))\n",
    "\n",
    "read = fh.read(span)\n",
    "if lineBreaks:\n",
    "    read = read.replace('\\n','')\n",
    "\n",
    "print (read)"
   ]
  },
  {
   "cell_type": "code",
   "execution_count": 68,
   "metadata": {},
   "outputs": [],
   "source": [
    "from Bio import SeqIO\n",
    "from Bio.Seq import Seq\n",
    "from Bio.SeqRecord import SeqRecord\n",
    "from Bio.Alphabet import DNAAlphabet\n",
    "import pickle"
   ]
  },
  {
   "cell_type": "code",
   "execution_count": 65,
   "metadata": {},
   "outputs": [],
   "source": [
    "hg = SeqIO.parse('/Users/afederation/data/genomes/hg38/hg38.fa', \"fasta\")"
   ]
  },
  {
   "cell_type": "code",
   "execution_count": 48,
   "metadata": {
    "collapsed": true,
    "jupyter": {
     "outputs_hidden": true
    }
   },
   "outputs": [
    {
     "name": "stdout",
     "output_type": "stream",
     "text": [
      "chr1\n",
      "chr10\n",
      "chr10_GL383545v1_alt\n",
      "chr10_GL383546v1_alt\n",
      "chr10_KI270824v1_alt\n",
      "chr10_KI270825v1_alt\n",
      "chr11\n",
      "chr11_GL383547v1_alt\n",
      "chr11_JH159136v1_alt\n",
      "chr11_JH159137v1_alt\n",
      "chr11_KI270721v1_random\n",
      "chr11_KI270826v1_alt\n",
      "chr11_KI270827v1_alt\n",
      "chr11_KI270829v1_alt\n",
      "chr11_KI270830v1_alt\n",
      "chr11_KI270831v1_alt\n",
      "chr11_KI270832v1_alt\n",
      "chr11_KI270902v1_alt\n",
      "chr11_KI270903v1_alt\n",
      "chr11_KI270927v1_alt\n",
      "chr12\n",
      "chr12_GL383549v1_alt\n",
      "chr12_GL383550v2_alt\n",
      "chr12_GL383551v1_alt\n",
      "chr12_GL383552v1_alt\n",
      "chr12_GL383553v2_alt\n",
      "chr12_GL877875v1_alt\n",
      "chr12_GL877876v1_alt\n",
      "chr12_KI270833v1_alt\n",
      "chr12_KI270834v1_alt\n",
      "chr12_KI270835v1_alt\n",
      "chr12_KI270836v1_alt\n",
      "chr12_KI270837v1_alt\n",
      "chr12_KI270904v1_alt\n",
      "chr13\n",
      "chr13_KI270838v1_alt\n",
      "chr13_KI270839v1_alt\n",
      "chr13_KI270840v1_alt\n",
      "chr13_KI270841v1_alt\n",
      "chr13_KI270842v1_alt\n",
      "chr13_KI270843v1_alt\n",
      "chr14\n",
      "chr14_GL000009v2_random\n",
      "chr14_GL000194v1_random\n",
      "chr14_GL000225v1_random\n",
      "chr14_KI270722v1_random\n",
      "chr14_KI270723v1_random\n",
      "chr14_KI270724v1_random\n",
      "chr14_KI270725v1_random\n",
      "chr14_KI270726v1_random\n",
      "chr14_KI270844v1_alt\n",
      "chr14_KI270845v1_alt\n",
      "chr14_KI270846v1_alt\n",
      "chr14_KI270847v1_alt\n",
      "chr15\n",
      "chr15_GL383554v1_alt\n",
      "chr15_GL383555v2_alt\n",
      "chr15_KI270727v1_random\n",
      "chr15_KI270848v1_alt\n",
      "chr15_KI270849v1_alt\n",
      "chr15_KI270850v1_alt\n",
      "chr15_KI270851v1_alt\n",
      "chr15_KI270852v1_alt\n",
      "chr15_KI270905v1_alt\n",
      "chr15_KI270906v1_alt\n",
      "chr16\n",
      "chr16_GL383556v1_alt\n",
      "chr16_GL383557v1_alt\n",
      "chr16_KI270728v1_random\n",
      "chr16_KI270853v1_alt\n",
      "chr16_KI270854v1_alt\n",
      "chr16_KI270855v1_alt\n",
      "chr16_KI270856v1_alt\n",
      "chr17\n",
      "chr17_GL000205v2_random\n",
      "chr17_GL000258v2_alt\n",
      "chr17_GL383563v3_alt\n",
      "chr17_GL383564v2_alt\n",
      "chr17_GL383565v1_alt\n",
      "chr17_GL383566v1_alt\n",
      "chr17_JH159146v1_alt\n",
      "chr17_JH159147v1_alt\n",
      "chr17_JH159148v1_alt\n",
      "chr17_KI270729v1_random\n",
      "chr17_KI270730v1_random\n",
      "chr17_KI270857v1_alt\n",
      "chr17_KI270858v1_alt\n",
      "chr17_KI270859v1_alt\n",
      "chr17_KI270860v1_alt\n",
      "chr17_KI270861v1_alt\n",
      "chr17_KI270862v1_alt\n",
      "chr17_KI270907v1_alt\n",
      "chr17_KI270908v1_alt\n",
      "chr17_KI270909v1_alt\n",
      "chr17_KI270910v1_alt\n",
      "chr18\n",
      "chr18_GL383567v1_alt\n",
      "chr18_GL383568v1_alt\n",
      "chr18_GL383569v1_alt\n",
      "chr18_GL383570v1_alt\n",
      "chr18_GL383571v1_alt\n",
      "chr18_GL383572v1_alt\n",
      "chr18_KI270863v1_alt\n",
      "chr18_KI270864v1_alt\n",
      "chr18_KI270911v1_alt\n",
      "chr18_KI270912v1_alt\n",
      "chr19\n",
      "chr19_GL000209v2_alt\n",
      "chr19_GL383573v1_alt\n",
      "chr19_GL383574v1_alt\n",
      "chr19_GL383575v2_alt\n",
      "chr19_GL383576v1_alt\n",
      "chr19_GL949746v1_alt\n",
      "chr19_GL949747v2_alt\n",
      "chr19_GL949748v2_alt\n",
      "chr19_GL949749v2_alt\n",
      "chr19_GL949750v2_alt\n",
      "chr19_GL949751v2_alt\n",
      "chr19_GL949752v1_alt\n",
      "chr19_GL949753v2_alt\n",
      "chr19_KI270865v1_alt\n",
      "chr19_KI270866v1_alt\n",
      "chr19_KI270867v1_alt\n",
      "chr19_KI270868v1_alt\n",
      "chr19_KI270882v1_alt\n",
      "chr19_KI270883v1_alt\n",
      "chr19_KI270884v1_alt\n",
      "chr19_KI270885v1_alt\n",
      "chr19_KI270886v1_alt\n",
      "chr19_KI270887v1_alt\n",
      "chr19_KI270888v1_alt\n",
      "chr19_KI270889v1_alt\n",
      "chr19_KI270890v1_alt\n",
      "chr19_KI270891v1_alt\n",
      "chr19_KI270914v1_alt\n",
      "chr19_KI270915v1_alt\n",
      "chr19_KI270916v1_alt\n",
      "chr19_KI270917v1_alt\n",
      "chr19_KI270918v1_alt\n",
      "chr19_KI270919v1_alt\n",
      "chr19_KI270920v1_alt\n",
      "chr19_KI270921v1_alt\n",
      "chr19_KI270922v1_alt\n",
      "chr19_KI270923v1_alt\n",
      "chr19_KI270929v1_alt\n",
      "chr19_KI270930v1_alt\n",
      "chr19_KI270931v1_alt\n",
      "chr19_KI270932v1_alt\n",
      "chr19_KI270933v1_alt\n",
      "chr19_KI270938v1_alt\n",
      "chr1_GL383518v1_alt\n",
      "chr1_GL383519v1_alt\n",
      "chr1_GL383520v2_alt\n",
      "chr1_KI270706v1_random\n",
      "chr1_KI270707v1_random\n",
      "chr1_KI270708v1_random\n",
      "chr1_KI270709v1_random\n",
      "chr1_KI270710v1_random\n",
      "chr1_KI270711v1_random\n",
      "chr1_KI270712v1_random\n",
      "chr1_KI270713v1_random\n",
      "chr1_KI270714v1_random\n",
      "chr1_KI270759v1_alt\n",
      "chr1_KI270760v1_alt\n",
      "chr1_KI270761v1_alt\n",
      "chr1_KI270762v1_alt\n",
      "chr1_KI270763v1_alt\n",
      "chr1_KI270764v1_alt\n",
      "chr1_KI270765v1_alt\n",
      "chr1_KI270766v1_alt\n",
      "chr1_KI270892v1_alt\n",
      "chr2\n",
      "chr20\n",
      "chr20_GL383577v2_alt\n",
      "chr20_KI270869v1_alt\n",
      "chr20_KI270870v1_alt\n",
      "chr20_KI270871v1_alt\n",
      "chr21\n",
      "chr21_GL383578v2_alt\n",
      "chr21_GL383579v2_alt\n",
      "chr21_GL383580v2_alt\n",
      "chr21_GL383581v2_alt\n",
      "chr21_KI270872v1_alt\n",
      "chr21_KI270873v1_alt\n",
      "chr21_KI270874v1_alt\n",
      "chr22\n",
      "chr22_GL383582v2_alt\n",
      "chr22_GL383583v2_alt\n",
      "chr22_KB663609v1_alt\n",
      "chr22_KI270731v1_random\n",
      "chr22_KI270732v1_random\n",
      "chr22_KI270733v1_random\n",
      "chr22_KI270734v1_random\n",
      "chr22_KI270735v1_random\n",
      "chr22_KI270736v1_random\n",
      "chr22_KI270737v1_random\n",
      "chr22_KI270738v1_random\n",
      "chr22_KI270739v1_random\n",
      "chr22_KI270875v1_alt\n",
      "chr22_KI270876v1_alt\n",
      "chr22_KI270877v1_alt\n",
      "chr22_KI270878v1_alt\n",
      "chr22_KI270879v1_alt\n",
      "chr22_KI270928v1_alt\n",
      "chr2_GL383521v1_alt\n",
      "chr2_GL383522v1_alt\n",
      "chr2_GL582966v2_alt\n",
      "chr2_KI270715v1_random\n",
      "chr2_KI270716v1_random\n",
      "chr2_KI270767v1_alt\n",
      "chr2_KI270768v1_alt\n",
      "chr2_KI270769v1_alt\n",
      "chr2_KI270770v1_alt\n",
      "chr2_KI270771v1_alt\n",
      "chr2_KI270772v1_alt\n",
      "chr2_KI270773v1_alt\n",
      "chr2_KI270774v1_alt\n",
      "chr2_KI270775v1_alt\n",
      "chr2_KI270776v1_alt\n",
      "chr2_KI270893v1_alt\n",
      "chr2_KI270894v1_alt\n"
     ]
    },
    {
     "ename": "KeyboardInterrupt",
     "evalue": "",
     "output_type": "error",
     "traceback": [
      "\u001b[0;31m---------------------------------------------------------------------------\u001b[0m",
      "\u001b[0;31mKeyboardInterrupt\u001b[0m                         Traceback (most recent call last)",
      "\u001b[0;32m<ipython-input-48-c06ca7337cc5>\u001b[0m in \u001b[0;36m<module>\u001b[0;34m\u001b[0m\n\u001b[0;32m----> 1\u001b[0;31m \u001b[0;32mfor\u001b[0m \u001b[0mrecord\u001b[0m \u001b[0;32min\u001b[0m \u001b[0mhg\u001b[0m\u001b[0;34m:\u001b[0m\u001b[0;34m\u001b[0m\u001b[0;34m\u001b[0m\u001b[0m\n\u001b[0m\u001b[1;32m      2\u001b[0m     \u001b[0mprint\u001b[0m \u001b[0;34m(\u001b[0m\u001b[0mrecord\u001b[0m\u001b[0;34m.\u001b[0m\u001b[0mid\u001b[0m\u001b[0;34m)\u001b[0m\u001b[0;34m\u001b[0m\u001b[0;34m\u001b[0m\u001b[0m\n",
      "\u001b[0;32m~/opt/anaconda3/lib/python3.7/site-packages/Bio/SeqIO/FastaIO.py\u001b[0m in \u001b[0;36mFastaIterator\u001b[0;34m(handle, alphabet, title2ids)\u001b[0m\n\u001b[1;32m    184\u001b[0m                 )\n\u001b[1;32m    185\u001b[0m         \u001b[0;32melse\u001b[0m\u001b[0;34m:\u001b[0m\u001b[0;34m\u001b[0m\u001b[0;34m\u001b[0m\u001b[0m\n\u001b[0;32m--> 186\u001b[0;31m             \u001b[0;32mfor\u001b[0m \u001b[0mtitle\u001b[0m\u001b[0;34m,\u001b[0m \u001b[0msequence\u001b[0m \u001b[0;32min\u001b[0m \u001b[0mSimpleFastaParser\u001b[0m\u001b[0;34m(\u001b[0m\u001b[0mhandle\u001b[0m\u001b[0;34m)\u001b[0m\u001b[0;34m:\u001b[0m\u001b[0;34m\u001b[0m\u001b[0;34m\u001b[0m\u001b[0m\n\u001b[0m\u001b[1;32m    187\u001b[0m                 \u001b[0;32mtry\u001b[0m\u001b[0;34m:\u001b[0m\u001b[0;34m\u001b[0m\u001b[0;34m\u001b[0m\u001b[0m\n\u001b[1;32m    188\u001b[0m                     \u001b[0mfirst_word\u001b[0m \u001b[0;34m=\u001b[0m \u001b[0mtitle\u001b[0m\u001b[0;34m.\u001b[0m\u001b[0msplit\u001b[0m\u001b[0;34m(\u001b[0m\u001b[0;32mNone\u001b[0m\u001b[0;34m,\u001b[0m \u001b[0;36m1\u001b[0m\u001b[0;34m)\u001b[0m\u001b[0;34m[\u001b[0m\u001b[0;36m0\u001b[0m\u001b[0;34m]\u001b[0m\u001b[0;34m\u001b[0m\u001b[0;34m\u001b[0m\u001b[0m\n",
      "\u001b[0;32m~/opt/anaconda3/lib/python3.7/site-packages/Bio/SeqIO/FastaIO.py\u001b[0m in \u001b[0;36mSimpleFastaParser\u001b[0;34m(handle)\u001b[0m\n\u001b[1;32m     63\u001b[0m     \u001b[0mlines\u001b[0m \u001b[0;34m=\u001b[0m \u001b[0;34m[\u001b[0m\u001b[0;34m]\u001b[0m\u001b[0;34m\u001b[0m\u001b[0;34m\u001b[0m\u001b[0m\n\u001b[1;32m     64\u001b[0m     \u001b[0;32mfor\u001b[0m \u001b[0mline\u001b[0m \u001b[0;32min\u001b[0m \u001b[0mhandle\u001b[0m\u001b[0;34m:\u001b[0m\u001b[0;34m\u001b[0m\u001b[0;34m\u001b[0m\u001b[0m\n\u001b[0;32m---> 65\u001b[0;31m         \u001b[0;32mif\u001b[0m \u001b[0mline\u001b[0m\u001b[0;34m[\u001b[0m\u001b[0;36m0\u001b[0m\u001b[0;34m]\u001b[0m \u001b[0;34m==\u001b[0m \u001b[0;34m\">\"\u001b[0m\u001b[0;34m:\u001b[0m\u001b[0;34m\u001b[0m\u001b[0;34m\u001b[0m\u001b[0m\n\u001b[0m\u001b[1;32m     66\u001b[0m             \u001b[0;32myield\u001b[0m \u001b[0mtitle\u001b[0m\u001b[0;34m,\u001b[0m \u001b[0;34m\"\"\u001b[0m\u001b[0;34m.\u001b[0m\u001b[0mjoin\u001b[0m\u001b[0;34m(\u001b[0m\u001b[0mlines\u001b[0m\u001b[0;34m)\u001b[0m\u001b[0;34m.\u001b[0m\u001b[0mreplace\u001b[0m\u001b[0;34m(\u001b[0m\u001b[0;34m\" \"\u001b[0m\u001b[0;34m,\u001b[0m \u001b[0;34m\"\"\u001b[0m\u001b[0;34m)\u001b[0m\u001b[0;34m.\u001b[0m\u001b[0mreplace\u001b[0m\u001b[0;34m(\u001b[0m\u001b[0;34m\"\\r\"\u001b[0m\u001b[0;34m,\u001b[0m \u001b[0;34m\"\"\u001b[0m\u001b[0;34m)\u001b[0m\u001b[0;34m\u001b[0m\u001b[0;34m\u001b[0m\u001b[0m\n\u001b[1;32m     67\u001b[0m             \u001b[0mlines\u001b[0m \u001b[0;34m=\u001b[0m \u001b[0;34m[\u001b[0m\u001b[0;34m]\u001b[0m\u001b[0;34m\u001b[0m\u001b[0;34m\u001b[0m\u001b[0m\n",
      "\u001b[0;31mKeyboardInterrupt\u001b[0m: "
     ]
    }
   ],
   "source": [
    "for record in hg:\n",
    "    print (record.id)"
   ]
  },
  {
   "cell_type": "code",
   "execution_count": 41,
   "metadata": {},
   "outputs": [],
   "source": [
    "first_record = next(SeqIO.parse(directory + 'chr8.fa', \"fasta\"))"
   ]
  },
  {
   "cell_type": "code",
   "execution_count": 42,
   "metadata": {},
   "outputs": [
    {
     "data": {
      "text/plain": [
       "SeqRecord(seq=Seq('NNNNNNNNNNNNNNNNNNNNNNNNNNNNNNNNNNNNNNNNNNNNNNNNNNNNNN...NNN', SingleLetterAlphabet()), id='chr8', name='chr8', description='chr8', dbxrefs=[])"
      ]
     },
     "execution_count": 42,
     "metadata": {},
     "output_type": "execute_result"
    }
   ],
   "source": [
    "first_record"
   ]
  },
  {
   "cell_type": "code",
   "execution_count": 45,
   "metadata": {},
   "outputs": [
    {
     "data": {
      "text/plain": [
       "Seq('TGGATTTTTTTCGGGTAGTGGAAAACCAGGTAAGCACCGAAGTCCACTTGCCTT...TAA', SingleLetterAlphabet())"
      ]
     },
     "execution_count": 45,
     "metadata": {},
     "output_type": "execute_result"
    }
   ],
   "source": [
    "first_record.seq[127736594:127740958]"
   ]
  },
  {
   "cell_type": "code",
   "execution_count": 66,
   "metadata": {},
   "outputs": [],
   "source": [
    "hg_dict = SeqIO.to_dict(hg)"
   ]
  },
  {
   "cell_type": "code",
   "execution_count": 67,
   "metadata": {},
   "outputs": [
    {
     "data": {
      "text/plain": [
       "dict_keys(['chr1', 'chr10', 'chr10_GL383545v1_alt', 'chr10_GL383546v1_alt', 'chr10_KI270824v1_alt', 'chr10_KI270825v1_alt', 'chr11', 'chr11_GL383547v1_alt', 'chr11_JH159136v1_alt', 'chr11_JH159137v1_alt', 'chr11_KI270721v1_random', 'chr11_KI270826v1_alt', 'chr11_KI270827v1_alt', 'chr11_KI270829v1_alt', 'chr11_KI270830v1_alt', 'chr11_KI270831v1_alt', 'chr11_KI270832v1_alt', 'chr11_KI270902v1_alt', 'chr11_KI270903v1_alt', 'chr11_KI270927v1_alt', 'chr12', 'chr12_GL383549v1_alt', 'chr12_GL383550v2_alt', 'chr12_GL383551v1_alt', 'chr12_GL383552v1_alt', 'chr12_GL383553v2_alt', 'chr12_GL877875v1_alt', 'chr12_GL877876v1_alt', 'chr12_KI270833v1_alt', 'chr12_KI270834v1_alt', 'chr12_KI270835v1_alt', 'chr12_KI270836v1_alt', 'chr12_KI270837v1_alt', 'chr12_KI270904v1_alt', 'chr13', 'chr13_KI270838v1_alt', 'chr13_KI270839v1_alt', 'chr13_KI270840v1_alt', 'chr13_KI270841v1_alt', 'chr13_KI270842v1_alt', 'chr13_KI270843v1_alt', 'chr14', 'chr14_GL000009v2_random', 'chr14_GL000194v1_random', 'chr14_GL000225v1_random', 'chr14_KI270722v1_random', 'chr14_KI270723v1_random', 'chr14_KI270724v1_random', 'chr14_KI270725v1_random', 'chr14_KI270726v1_random', 'chr14_KI270844v1_alt', 'chr14_KI270845v1_alt', 'chr14_KI270846v1_alt', 'chr14_KI270847v1_alt', 'chr15', 'chr15_GL383554v1_alt', 'chr15_GL383555v2_alt', 'chr15_KI270727v1_random', 'chr15_KI270848v1_alt', 'chr15_KI270849v1_alt', 'chr15_KI270850v1_alt', 'chr15_KI270851v1_alt', 'chr15_KI270852v1_alt', 'chr15_KI270905v1_alt', 'chr15_KI270906v1_alt', 'chr16', 'chr16_GL383556v1_alt', 'chr16_GL383557v1_alt', 'chr16_KI270728v1_random', 'chr16_KI270853v1_alt', 'chr16_KI270854v1_alt', 'chr16_KI270855v1_alt', 'chr16_KI270856v1_alt', 'chr17', 'chr17_GL000205v2_random', 'chr17_GL000258v2_alt', 'chr17_GL383563v3_alt', 'chr17_GL383564v2_alt', 'chr17_GL383565v1_alt', 'chr17_GL383566v1_alt', 'chr17_JH159146v1_alt', 'chr17_JH159147v1_alt', 'chr17_JH159148v1_alt', 'chr17_KI270729v1_random', 'chr17_KI270730v1_random', 'chr17_KI270857v1_alt', 'chr17_KI270858v1_alt', 'chr17_KI270859v1_alt', 'chr17_KI270860v1_alt', 'chr17_KI270861v1_alt', 'chr17_KI270862v1_alt', 'chr17_KI270907v1_alt', 'chr17_KI270908v1_alt', 'chr17_KI270909v1_alt', 'chr17_KI270910v1_alt', 'chr18', 'chr18_GL383567v1_alt', 'chr18_GL383568v1_alt', 'chr18_GL383569v1_alt', 'chr18_GL383570v1_alt', 'chr18_GL383571v1_alt', 'chr18_GL383572v1_alt', 'chr18_KI270863v1_alt', 'chr18_KI270864v1_alt', 'chr18_KI270911v1_alt', 'chr18_KI270912v1_alt', 'chr19', 'chr19_GL000209v2_alt', 'chr19_GL383573v1_alt', 'chr19_GL383574v1_alt', 'chr19_GL383575v2_alt', 'chr19_GL383576v1_alt', 'chr19_GL949746v1_alt', 'chr19_GL949747v2_alt', 'chr19_GL949748v2_alt', 'chr19_GL949749v2_alt', 'chr19_GL949750v2_alt', 'chr19_GL949751v2_alt', 'chr19_GL949752v1_alt', 'chr19_GL949753v2_alt', 'chr19_KI270865v1_alt', 'chr19_KI270866v1_alt', 'chr19_KI270867v1_alt', 'chr19_KI270868v1_alt', 'chr19_KI270882v1_alt', 'chr19_KI270883v1_alt', 'chr19_KI270884v1_alt', 'chr19_KI270885v1_alt', 'chr19_KI270886v1_alt', 'chr19_KI270887v1_alt', 'chr19_KI270888v1_alt', 'chr19_KI270889v1_alt', 'chr19_KI270890v1_alt', 'chr19_KI270891v1_alt', 'chr19_KI270914v1_alt', 'chr19_KI270915v1_alt', 'chr19_KI270916v1_alt', 'chr19_KI270917v1_alt', 'chr19_KI270918v1_alt', 'chr19_KI270919v1_alt', 'chr19_KI270920v1_alt', 'chr19_KI270921v1_alt', 'chr19_KI270922v1_alt', 'chr19_KI270923v1_alt', 'chr19_KI270929v1_alt', 'chr19_KI270930v1_alt', 'chr19_KI270931v1_alt', 'chr19_KI270932v1_alt', 'chr19_KI270933v1_alt', 'chr19_KI270938v1_alt', 'chr1_GL383518v1_alt', 'chr1_GL383519v1_alt', 'chr1_GL383520v2_alt', 'chr1_KI270706v1_random', 'chr1_KI270707v1_random', 'chr1_KI270708v1_random', 'chr1_KI270709v1_random', 'chr1_KI270710v1_random', 'chr1_KI270711v1_random', 'chr1_KI270712v1_random', 'chr1_KI270713v1_random', 'chr1_KI270714v1_random', 'chr1_KI270759v1_alt', 'chr1_KI270760v1_alt', 'chr1_KI270761v1_alt', 'chr1_KI270762v1_alt', 'chr1_KI270763v1_alt', 'chr1_KI270764v1_alt', 'chr1_KI270765v1_alt', 'chr1_KI270766v1_alt', 'chr1_KI270892v1_alt', 'chr2', 'chr20', 'chr20_GL383577v2_alt', 'chr20_KI270869v1_alt', 'chr20_KI270870v1_alt', 'chr20_KI270871v1_alt', 'chr21', 'chr21_GL383578v2_alt', 'chr21_GL383579v2_alt', 'chr21_GL383580v2_alt', 'chr21_GL383581v2_alt', 'chr21_KI270872v1_alt', 'chr21_KI270873v1_alt', 'chr21_KI270874v1_alt', 'chr22', 'chr22_GL383582v2_alt', 'chr22_GL383583v2_alt', 'chr22_KB663609v1_alt', 'chr22_KI270731v1_random', 'chr22_KI270732v1_random', 'chr22_KI270733v1_random', 'chr22_KI270734v1_random', 'chr22_KI270735v1_random', 'chr22_KI270736v1_random', 'chr22_KI270737v1_random', 'chr22_KI270738v1_random', 'chr22_KI270739v1_random', 'chr22_KI270875v1_alt', 'chr22_KI270876v1_alt', 'chr22_KI270877v1_alt', 'chr22_KI270878v1_alt', 'chr22_KI270879v1_alt', 'chr22_KI270928v1_alt', 'chr2_GL383521v1_alt', 'chr2_GL383522v1_alt', 'chr2_GL582966v2_alt', 'chr2_KI270715v1_random', 'chr2_KI270716v1_random', 'chr2_KI270767v1_alt', 'chr2_KI270768v1_alt', 'chr2_KI270769v1_alt', 'chr2_KI270770v1_alt', 'chr2_KI270771v1_alt', 'chr2_KI270772v1_alt', 'chr2_KI270773v1_alt', 'chr2_KI270774v1_alt', 'chr2_KI270775v1_alt', 'chr2_KI270776v1_alt', 'chr2_KI270893v1_alt', 'chr2_KI270894v1_alt', 'chr3', 'chr3_GL000221v1_random', 'chr3_GL383526v1_alt', 'chr3_JH636055v2_alt', 'chr3_KI270777v1_alt', 'chr3_KI270778v1_alt', 'chr3_KI270779v1_alt', 'chr3_KI270780v1_alt', 'chr3_KI270781v1_alt', 'chr3_KI270782v1_alt', 'chr3_KI270783v1_alt', 'chr3_KI270784v1_alt', 'chr3_KI270895v1_alt', 'chr3_KI270924v1_alt', 'chr3_KI270934v1_alt', 'chr3_KI270935v1_alt', 'chr3_KI270936v1_alt', 'chr3_KI270937v1_alt', 'chr4', 'chr4_GL000008v2_random', 'chr4_GL000257v2_alt', 'chr4_GL383527v1_alt', 'chr4_GL383528v1_alt', 'chr4_KI270785v1_alt', 'chr4_KI270786v1_alt', 'chr4_KI270787v1_alt', 'chr4_KI270788v1_alt', 'chr4_KI270789v1_alt', 'chr4_KI270790v1_alt', 'chr4_KI270896v1_alt', 'chr4_KI270925v1_alt', 'chr5', 'chr5_GL000208v1_random', 'chr5_GL339449v2_alt', 'chr5_GL383530v1_alt', 'chr5_GL383531v1_alt', 'chr5_GL383532v1_alt', 'chr5_GL949742v1_alt', 'chr5_KI270791v1_alt', 'chr5_KI270792v1_alt', 'chr5_KI270793v1_alt', 'chr5_KI270794v1_alt', 'chr5_KI270795v1_alt', 'chr5_KI270796v1_alt', 'chr5_KI270897v1_alt', 'chr5_KI270898v1_alt', 'chr6', 'chr6_GL000250v2_alt', 'chr6_GL000251v2_alt', 'chr6_GL000252v2_alt', 'chr6_GL000253v2_alt', 'chr6_GL000254v2_alt', 'chr6_GL000255v2_alt', 'chr6_GL000256v2_alt', 'chr6_GL383533v1_alt', 'chr6_KB021644v2_alt', 'chr6_KI270758v1_alt', 'chr6_KI270797v1_alt', 'chr6_KI270798v1_alt', 'chr6_KI270799v1_alt', 'chr6_KI270800v1_alt', 'chr6_KI270801v1_alt', 'chr6_KI270802v1_alt', 'chr7', 'chr7_GL383534v2_alt', 'chr7_KI270803v1_alt', 'chr7_KI270804v1_alt', 'chr7_KI270805v1_alt', 'chr7_KI270806v1_alt', 'chr7_KI270807v1_alt', 'chr7_KI270808v1_alt', 'chr7_KI270809v1_alt', 'chr7_KI270899v1_alt', 'chr8', 'chr8_KI270810v1_alt', 'chr8_KI270811v1_alt', 'chr8_KI270812v1_alt', 'chr8_KI270813v1_alt', 'chr8_KI270814v1_alt', 'chr8_KI270815v1_alt', 'chr8_KI270816v1_alt', 'chr8_KI270817v1_alt', 'chr8_KI270818v1_alt', 'chr8_KI270819v1_alt', 'chr8_KI270820v1_alt', 'chr8_KI270821v1_alt', 'chr8_KI270822v1_alt', 'chr8_KI270900v1_alt', 'chr8_KI270901v1_alt', 'chr8_KI270926v1_alt', 'chr9', 'chr9_GL383539v1_alt', 'chr9_GL383540v1_alt', 'chr9_GL383541v1_alt', 'chr9_GL383542v1_alt', 'chr9_KI270717v1_random', 'chr9_KI270718v1_random', 'chr9_KI270719v1_random', 'chr9_KI270720v1_random', 'chr9_KI270823v1_alt', 'chrM', 'chrUn_GL000195v1', 'chrUn_GL000213v1', 'chrUn_GL000214v1', 'chrUn_GL000216v2', 'chrUn_GL000218v1', 'chrUn_GL000219v1', 'chrUn_GL000220v1', 'chrUn_GL000224v1', 'chrUn_GL000226v1', 'chrUn_KI270302v1', 'chrUn_KI270303v1', 'chrUn_KI270304v1', 'chrUn_KI270305v1', 'chrUn_KI270310v1', 'chrUn_KI270311v1', 'chrUn_KI270312v1', 'chrUn_KI270315v1', 'chrUn_KI270316v1', 'chrUn_KI270317v1', 'chrUn_KI270320v1', 'chrUn_KI270322v1', 'chrUn_KI270329v1', 'chrUn_KI270330v1', 'chrUn_KI270333v1', 'chrUn_KI270334v1', 'chrUn_KI270335v1', 'chrUn_KI270336v1', 'chrUn_KI270337v1', 'chrUn_KI270338v1', 'chrUn_KI270340v1', 'chrUn_KI270362v1', 'chrUn_KI270363v1', 'chrUn_KI270364v1', 'chrUn_KI270366v1', 'chrUn_KI270371v1', 'chrUn_KI270372v1', 'chrUn_KI270373v1', 'chrUn_KI270374v1', 'chrUn_KI270375v1', 'chrUn_KI270376v1', 'chrUn_KI270378v1', 'chrUn_KI270379v1', 'chrUn_KI270381v1', 'chrUn_KI270382v1', 'chrUn_KI270383v1', 'chrUn_KI270384v1', 'chrUn_KI270385v1', 'chrUn_KI270386v1', 'chrUn_KI270387v1', 'chrUn_KI270388v1', 'chrUn_KI270389v1', 'chrUn_KI270390v1', 'chrUn_KI270391v1', 'chrUn_KI270392v1', 'chrUn_KI270393v1', 'chrUn_KI270394v1', 'chrUn_KI270395v1', 'chrUn_KI270396v1', 'chrUn_KI270411v1', 'chrUn_KI270412v1', 'chrUn_KI270414v1', 'chrUn_KI270417v1', 'chrUn_KI270418v1', 'chrUn_KI270419v1', 'chrUn_KI270420v1', 'chrUn_KI270422v1', 'chrUn_KI270423v1', 'chrUn_KI270424v1', 'chrUn_KI270425v1', 'chrUn_KI270429v1', 'chrUn_KI270435v1', 'chrUn_KI270438v1', 'chrUn_KI270442v1', 'chrUn_KI270448v1', 'chrUn_KI270465v1', 'chrUn_KI270466v1', 'chrUn_KI270467v1', 'chrUn_KI270468v1', 'chrUn_KI270507v1', 'chrUn_KI270508v1', 'chrUn_KI270509v1', 'chrUn_KI270510v1', 'chrUn_KI270511v1', 'chrUn_KI270512v1', 'chrUn_KI270515v1', 'chrUn_KI270516v1', 'chrUn_KI270517v1', 'chrUn_KI270518v1', 'chrUn_KI270519v1', 'chrUn_KI270521v1', 'chrUn_KI270522v1', 'chrUn_KI270528v1', 'chrUn_KI270529v1', 'chrUn_KI270530v1', 'chrUn_KI270538v1', 'chrUn_KI270539v1', 'chrUn_KI270544v1', 'chrUn_KI270548v1', 'chrUn_KI270579v1', 'chrUn_KI270580v1', 'chrUn_KI270581v1', 'chrUn_KI270582v1', 'chrUn_KI270583v1', 'chrUn_KI270584v1', 'chrUn_KI270587v1', 'chrUn_KI270588v1', 'chrUn_KI270589v1', 'chrUn_KI270590v1', 'chrUn_KI270591v1', 'chrUn_KI270593v1', 'chrUn_KI270741v1', 'chrUn_KI270742v1', 'chrUn_KI270743v1', 'chrUn_KI270744v1', 'chrUn_KI270745v1', 'chrUn_KI270746v1', 'chrUn_KI270747v1', 'chrUn_KI270748v1', 'chrUn_KI270749v1', 'chrUn_KI270750v1', 'chrUn_KI270751v1', 'chrUn_KI270752v1', 'chrUn_KI270753v1', 'chrUn_KI270754v1', 'chrUn_KI270755v1', 'chrUn_KI270756v1', 'chrUn_KI270757v1', 'chrX', 'chrX_KI270880v1_alt', 'chrX_KI270881v1_alt', 'chrX_KI270913v1_alt', 'chrY', 'chrY_KI270740v1_random'])"
      ]
     },
     "execution_count": 67,
     "metadata": {},
     "output_type": "execute_result"
    }
   ],
   "source": [
    "hg_dict"
   ]
  },
  {
   "cell_type": "code",
   "execution_count": 74,
   "metadata": {},
   "outputs": [],
   "source": [
    "with open('/Users/afederation/data/genomes/hg38/hg38.pkl', 'wb') as hg_file:\n",
    "    pickle.dump(hg_dict, hg_file)"
   ]
  },
  {
   "cell_type": "code",
   "execution_count": 75,
   "metadata": {},
   "outputs": [],
   "source": [
    "import pandas as pd"
   ]
  },
  {
   "cell_type": "code",
   "execution_count": 80,
   "metadata": {},
   "outputs": [],
   "source": [
    "colnames = ['chromosome_name', 'annotation_source', 'feature_type', 'genomic_start_location',\n",
    "            'genomic_end_location', 'score', 'strand', 'phase', 'additional_info']\n",
    "gencode = pd.read_csv('/Users/afederation/data/annotations/gencode.v34.annotation.gff3', sep='\\t', \n",
    "                      comment='#', names=colnames)"
   ]
  },
  {
   "cell_type": "code",
   "execution_count": 81,
   "metadata": {},
   "outputs": [
    {
     "data": {
      "text/plain": [
       "Index(['chromosome_name', 'annotation_source', 'feature_type',\n",
       "       'genomic_start_location', 'genomic_end_location', 'score', 'strand',\n",
       "       'phase', 'additional_info'],\n",
       "      dtype='object')"
      ]
     },
     "execution_count": 81,
     "metadata": {},
     "output_type": "execute_result"
    }
   ],
   "source": [
    "gencode.columns"
   ]
  },
  {
   "cell_type": "code",
   "execution_count": 85,
   "metadata": {},
   "outputs": [],
   "source": [
    "gencode_sample = gencode.iloc[:100]"
   ]
  },
  {
   "cell_type": "code",
   "execution_count": 118,
   "metadata": {},
   "outputs": [
    {
     "data": {
      "text/html": [
       "<div>\n",
       "<style scoped>\n",
       "    .dataframe tbody tr th:only-of-type {\n",
       "        vertical-align: middle;\n",
       "    }\n",
       "\n",
       "    .dataframe tbody tr th {\n",
       "        vertical-align: top;\n",
       "    }\n",
       "\n",
       "    .dataframe thead th {\n",
       "        text-align: right;\n",
       "    }\n",
       "</style>\n",
       "<table border=\"1\" class=\"dataframe\">\n",
       "  <thead>\n",
       "    <tr style=\"text-align: right;\">\n",
       "      <th></th>\n",
       "      <th>chromosome_name</th>\n",
       "      <th>annotation_source</th>\n",
       "      <th>feature_type</th>\n",
       "      <th>genomic_start_location</th>\n",
       "      <th>genomic_end_location</th>\n",
       "      <th>score</th>\n",
       "      <th>strand</th>\n",
       "      <th>phase</th>\n",
       "      <th>additional_info</th>\n",
       "    </tr>\n",
       "  </thead>\n",
       "  <tbody>\n",
       "    <tr>\n",
       "      <th>0</th>\n",
       "      <td>chr1</td>\n",
       "      <td>HAVANA</td>\n",
       "      <td>gene</td>\n",
       "      <td>11869</td>\n",
       "      <td>14409</td>\n",
       "      <td>.</td>\n",
       "      <td>+</td>\n",
       "      <td>.</td>\n",
       "      <td>ID=ENSG00000223972.5;gene_id=ENSG00000223972.5...</td>\n",
       "    </tr>\n",
       "    <tr>\n",
       "      <th>1</th>\n",
       "      <td>chr1</td>\n",
       "      <td>HAVANA</td>\n",
       "      <td>transcript</td>\n",
       "      <td>11869</td>\n",
       "      <td>14409</td>\n",
       "      <td>.</td>\n",
       "      <td>+</td>\n",
       "      <td>.</td>\n",
       "      <td>ID=ENST00000456328.2;Parent=ENSG00000223972.5;...</td>\n",
       "    </tr>\n",
       "    <tr>\n",
       "      <th>2</th>\n",
       "      <td>chr1</td>\n",
       "      <td>HAVANA</td>\n",
       "      <td>exon</td>\n",
       "      <td>11869</td>\n",
       "      <td>12227</td>\n",
       "      <td>.</td>\n",
       "      <td>+</td>\n",
       "      <td>.</td>\n",
       "      <td>ID=exon:ENST00000456328.2:1;Parent=ENST0000045...</td>\n",
       "    </tr>\n",
       "    <tr>\n",
       "      <th>3</th>\n",
       "      <td>chr1</td>\n",
       "      <td>HAVANA</td>\n",
       "      <td>exon</td>\n",
       "      <td>12613</td>\n",
       "      <td>12721</td>\n",
       "      <td>.</td>\n",
       "      <td>+</td>\n",
       "      <td>.</td>\n",
       "      <td>ID=exon:ENST00000456328.2:2;Parent=ENST0000045...</td>\n",
       "    </tr>\n",
       "    <tr>\n",
       "      <th>4</th>\n",
       "      <td>chr1</td>\n",
       "      <td>HAVANA</td>\n",
       "      <td>exon</td>\n",
       "      <td>13221</td>\n",
       "      <td>14409</td>\n",
       "      <td>.</td>\n",
       "      <td>+</td>\n",
       "      <td>.</td>\n",
       "      <td>ID=exon:ENST00000456328.2:3;Parent=ENST0000045...</td>\n",
       "    </tr>\n",
       "    <tr>\n",
       "      <th>...</th>\n",
       "      <td>...</td>\n",
       "      <td>...</td>\n",
       "      <td>...</td>\n",
       "      <td>...</td>\n",
       "      <td>...</td>\n",
       "      <td>...</td>\n",
       "      <td>...</td>\n",
       "      <td>...</td>\n",
       "      <td>...</td>\n",
       "    </tr>\n",
       "    <tr>\n",
       "      <th>95</th>\n",
       "      <td>chr1</td>\n",
       "      <td>ENSEMBL</td>\n",
       "      <td>exon</td>\n",
       "      <td>120725</td>\n",
       "      <td>120869</td>\n",
       "      <td>.</td>\n",
       "      <td>-</td>\n",
       "      <td>.</td>\n",
       "      <td>ID=exon:ENST00000610542.1:4;Parent=ENST0000061...</td>\n",
       "    </tr>\n",
       "    <tr>\n",
       "      <th>96</th>\n",
       "      <td>chr1</td>\n",
       "      <td>HAVANA</td>\n",
       "      <td>transcript</td>\n",
       "      <td>129081</td>\n",
       "      <td>133566</td>\n",
       "      <td>.</td>\n",
       "      <td>-</td>\n",
       "      <td>.</td>\n",
       "      <td>ID=ENST00000453576.2;Parent=ENSG00000238009.6;...</td>\n",
       "    </tr>\n",
       "    <tr>\n",
       "      <th>97</th>\n",
       "      <td>chr1</td>\n",
       "      <td>HAVANA</td>\n",
       "      <td>exon</td>\n",
       "      <td>133374</td>\n",
       "      <td>133566</td>\n",
       "      <td>.</td>\n",
       "      <td>-</td>\n",
       "      <td>.</td>\n",
       "      <td>ID=exon:ENST00000453576.2:1;Parent=ENST0000045...</td>\n",
       "    </tr>\n",
       "    <tr>\n",
       "      <th>98</th>\n",
       "      <td>chr1</td>\n",
       "      <td>HAVANA</td>\n",
       "      <td>exon</td>\n",
       "      <td>129081</td>\n",
       "      <td>129223</td>\n",
       "      <td>.</td>\n",
       "      <td>-</td>\n",
       "      <td>.</td>\n",
       "      <td>ID=exon:ENST00000453576.2:2;Parent=ENST0000045...</td>\n",
       "    </tr>\n",
       "    <tr>\n",
       "      <th>99</th>\n",
       "      <td>chr1</td>\n",
       "      <td>HAVANA</td>\n",
       "      <td>gene</td>\n",
       "      <td>89551</td>\n",
       "      <td>91105</td>\n",
       "      <td>.</td>\n",
       "      <td>-</td>\n",
       "      <td>.</td>\n",
       "      <td>ID=ENSG00000239945.1;gene_id=ENSG00000239945.1...</td>\n",
       "    </tr>\n",
       "  </tbody>\n",
       "</table>\n",
       "<p>100 rows × 9 columns</p>\n",
       "</div>"
      ],
      "text/plain": [
       "   chromosome_name annotation_source feature_type  genomic_start_location  \\\n",
       "0             chr1            HAVANA         gene                   11869   \n",
       "1             chr1            HAVANA   transcript                   11869   \n",
       "2             chr1            HAVANA         exon                   11869   \n",
       "3             chr1            HAVANA         exon                   12613   \n",
       "4             chr1            HAVANA         exon                   13221   \n",
       "..             ...               ...          ...                     ...   \n",
       "95            chr1           ENSEMBL         exon                  120725   \n",
       "96            chr1            HAVANA   transcript                  129081   \n",
       "97            chr1            HAVANA         exon                  133374   \n",
       "98            chr1            HAVANA         exon                  129081   \n",
       "99            chr1            HAVANA         gene                   89551   \n",
       "\n",
       "    genomic_end_location score strand phase  \\\n",
       "0                  14409     .      +     .   \n",
       "1                  14409     .      +     .   \n",
       "2                  12227     .      +     .   \n",
       "3                  12721     .      +     .   \n",
       "4                  14409     .      +     .   \n",
       "..                   ...   ...    ...   ...   \n",
       "95                120869     .      -     .   \n",
       "96                133566     .      -     .   \n",
       "97                133566     .      -     .   \n",
       "98                129223     .      -     .   \n",
       "99                 91105     .      -     .   \n",
       "\n",
       "                                      additional_info  \n",
       "0   ID=ENSG00000223972.5;gene_id=ENSG00000223972.5...  \n",
       "1   ID=ENST00000456328.2;Parent=ENSG00000223972.5;...  \n",
       "2   ID=exon:ENST00000456328.2:1;Parent=ENST0000045...  \n",
       "3   ID=exon:ENST00000456328.2:2;Parent=ENST0000045...  \n",
       "4   ID=exon:ENST00000456328.2:3;Parent=ENST0000045...  \n",
       "..                                                ...  \n",
       "95  ID=exon:ENST00000610542.1:4;Parent=ENST0000061...  \n",
       "96  ID=ENST00000453576.2;Parent=ENSG00000238009.6;...  \n",
       "97  ID=exon:ENST00000453576.2:1;Parent=ENST0000045...  \n",
       "98  ID=exon:ENST00000453576.2:2;Parent=ENST0000045...  \n",
       "99  ID=ENSG00000239945.1;gene_id=ENSG00000239945.1...  \n",
       "\n",
       "[100 rows x 9 columns]"
      ]
     },
     "execution_count": 118,
     "metadata": {},
     "output_type": "execute_result"
    }
   ],
   "source": [
    "gencode_sample"
   ]
  },
  {
   "cell_type": "code",
   "execution_count": 87,
   "metadata": {},
   "outputs": [
    {
     "data": {
      "text/plain": [
       "['ID=ENST00000456328.2',\n",
       " 'Parent=ENSG00000223972.5',\n",
       " 'gene_id=ENSG00000223972.5',\n",
       " 'transcript_id=ENST00000456328.2',\n",
       " 'gene_type=transcribed_unprocessed_pseudogene',\n",
       " 'gene_name=DDX11L1',\n",
       " 'transcript_type=processed_transcript',\n",
       " 'transcript_name=DDX11L1-202',\n",
       " 'level=2',\n",
       " 'transcript_support_level=1',\n",
       " 'hgnc_id=HGNC:37102',\n",
       " 'tag=basic',\n",
       " 'havana_gene=OTTHUMG00000000961.1',\n",
       " 'havana_transcript=OTTHUMT00000362751.1']"
      ]
     },
     "execution_count": 87,
     "metadata": {},
     "output_type": "execute_result"
    }
   ],
   "source": [
    "gencode_sample.additional_info.str.split(';')"
   ]
  },
  {
   "cell_type": "code",
   "execution_count": 154,
   "metadata": {},
   "outputs": [],
   "source": [
    "from  collections import defaultdict\n",
    "tss_dict = defaultdict(list)"
   ]
  },
  {
   "cell_type": "code",
   "execution_count": 160,
   "metadata": {},
   "outputs": [],
   "source": [
    "for _, row in gencode.iterrows():\n",
    "    support = 0\n",
    "    if row.feature_type == 'transcript':\n",
    "        info = row.additional_info.split(';')\n",
    "        for i in info:\n",
    "            split = i.split('=')\n",
    "            if split[0] == 'gene_name':\n",
    "                name = split[1]\n",
    "            if split[0] == 'level':\n",
    "                support = split[1]\n",
    "        if support in ('1', '2'):\n",
    "            tss_dict[name].append((row.chromosome_name, row.genomic_start_location))\n"
   ]
  },
  {
   "cell_type": "code",
   "execution_count": 161,
   "metadata": {},
   "outputs": [],
   "source": [
    "with open('/Users/afederation/data/genomes/processed/hg38_tss_dict.pkl', 'wb') as hg_file:\n",
    "    pickle.dump(tss_dict, hg_file)\n",
    "    "
   ]
  },
  {
   "cell_type": "code",
   "execution_count": 162,
   "metadata": {},
   "outputs": [
    {
     "data": {
      "text/plain": [
       "52994"
      ]
     },
     "execution_count": 162,
     "metadata": {},
     "output_type": "execute_result"
    }
   ],
   "source": [
    "len(tss_dict)"
   ]
  },
  {
   "cell_type": "code",
   "execution_count": 165,
   "metadata": {},
   "outputs": [
    {
     "data": {
      "text/plain": [
       "[('chr3', 181711925)]"
      ]
     },
     "execution_count": 165,
     "metadata": {},
     "output_type": "execute_result"
    }
   ],
   "source": [
    "tss_dict['SOX2']"
   ]
  },
  {
   "cell_type": "code",
   "execution_count": 148,
   "metadata": {},
   "outputs": [],
   "source": [
    "gene_list = pd.read_csv('/Users/afederation/projects/dl-regulatory-dna/DBCor_CRCs.genelist.txt', \n",
    "                       names=['gene'])\n",
    "gene_list = list(gene_list.gene)"
   ]
  },
  {
   "cell_type": "code",
   "execution_count": 166,
   "metadata": {},
   "outputs": [],
   "source": [
    "promoter_span = 1500\n",
    "fasta = []\n",
    "for gene in gene_list:\n",
    "    tss_list = tss_dict[gene]"
   ]
  },
  {
   "cell_type": "code",
   "execution_count": 168,
   "metadata": {},
   "outputs": [
    {
     "data": {
      "text/plain": [
       "[('chr2', 15940566), ('chr2', 15940550), ('chr2', 15940566)]"
      ]
     },
     "execution_count": 168,
     "metadata": {},
     "output_type": "execute_result"
    }
   ],
   "source": [
    "tss_dict['MYCN']"
   ]
  },
  {
   "cell_type": "code",
   "execution_count": null,
   "metadata": {},
   "outputs": [],
   "source": []
  }
 ],
 "metadata": {
  "kernelspec": {
   "display_name": "Python 3",
   "language": "python",
   "name": "python3"
  },
  "language_info": {
   "codemirror_mode": {
    "name": "ipython",
    "version": 3
   },
   "file_extension": ".py",
   "mimetype": "text/x-python",
   "name": "python",
   "nbconvert_exporter": "python",
   "pygments_lexer": "ipython3",
   "version": "3.7.6"
  }
 },
 "nbformat": 4,
 "nbformat_minor": 4
}
